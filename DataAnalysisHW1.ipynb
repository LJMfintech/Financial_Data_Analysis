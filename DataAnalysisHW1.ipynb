{
  "nbformat": 4,
  "nbformat_minor": 0,
  "metadata": {
    "colab": {
      "provenance": [],
      "authorship_tag": "ABX9TyMFsErjCLwPl1KkrYoy75wy",
      "include_colab_link": true
    },
    "kernelspec": {
      "name": "python3",
      "display_name": "Python 3"
    },
    "language_info": {
      "name": "python"
    }
  },
  "cells": [
    {
      "cell_type": "markdown",
      "metadata": {
        "id": "view-in-github",
        "colab_type": "text"
      },
      "source": [
        "<a href=\"https://colab.research.google.com/github/LJMfintech/Financial_Data_Analysis_1/blob/main/DataAnalysisHW1.ipynb\" target=\"_parent\"><img src=\"https://colab.research.google.com/assets/colab-badge.svg\" alt=\"Open In Colab\"/></a>"
      ]
    },
    {
      "cell_type": "code",
      "execution_count": null,
      "metadata": {
        "id": "7hxG2Qxrghnk"
      },
      "outputs": [],
      "source": [
        "!pip install wrds\n",
        "!pip install numpy_financial"
      ]
    },
    {
      "cell_type": "code",
      "source": [
        "import wrds\n",
        "import numpy_financial as npf\n",
        "import numpy as np\n",
        "import pandas as pd\n",
        "import yfinance as yf\n",
        "import statsmodels.api as sm"
      ],
      "metadata": {
        "id": "BIpmQXLZjAjH"
      },
      "execution_count": null,
      "outputs": []
    },
    {
      "cell_type": "code",
      "source": [
        "conn = wrds.Connection()"
      ],
      "metadata": {
        "id": "4Oe5g8bnjTE1"
      },
      "execution_count": null,
      "outputs": []
    },
    {
      "cell_type": "markdown",
      "source": [
        "# 1. 라이브러리"
      ],
      "metadata": {
        "id": "nSjos6_3jU5O"
      }
    },
    {
      "cell_type": "code",
      "source": [
        "lib_list = conn.list_libraries()\n",
        "print(type(lib_list))\n",
        "print(lib_list)"
      ],
      "metadata": {
        "id": "8tjH-ENvjXY9"
      },
      "execution_count": null,
      "outputs": []
    },
    {
      "cell_type": "code",
      "source": [],
      "metadata": {
        "id": "NlnGWKwTjgr-"
      },
      "execution_count": null,
      "outputs": []
    }
  ]
}